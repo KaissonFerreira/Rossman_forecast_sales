{
 "cells": [
  {
   "cell_type": "markdown",
   "metadata": {},
   "source": [
    "# Método CRISP-DM"
   ]
  },
  {
   "cell_type": "markdown",
   "metadata": {},
   "source": [
    "- Cross Industry Standard Process - Data Mining\n",
    "- Método cíclico para gerenciamento de projeto.\n",
    "- 1º Ciclo CRISP completo:\n",
    "    * 1 versão end-to-end da solução.\n",
    "    * Velocidade na entrega de valor.\n",
    "    * Mapeamento de todos os possíveis problemas."
   ]
  },
  {
   "cell_type": "markdown",
   "metadata": {},
   "source": [
    "# Ciclo CRISP-DM"
   ]
  },
  {
   "cell_type": "markdown",
   "metadata": {},
   "source": [
    "* Questão de negócio\n",
    "    - Business model (E-commerce, Software as a Service- SaaS, Free Mobile App, Media Site, User-generated content, Two-sided Marketplaces, consultant company, Startup)\n",
    "    - Metrics: Custo, receita, Usuários, Conversão, Margem de contribuição, HEART e NPS.\n",
    "* Entendimento do negócio\n",
    "    - Qual a motivação?\n",
    "    - Qual a causa raíz do problema?\n",
    "    - Quem é o dono do problema?\n",
    "    - O formato da solução desejada?\n",
    "* Coleta de dados\n",
    "    - Planilha de dados: CSV\n",
    "    - Banco de dados: Cloud ou servidor (Snowflake, postgres, Mysql e Oracle)\n",
    "    - API request: Python (Requests, Urllib e manipulação com o JSON) e Postman (teste de api)\n",
    "    - Webscrapping: Python (Selenium, BeatifullSoup, Scrappy e Requests)\n",
    "* Limpeza dos dados\n",
    "    - Python: Pandas\n",
    "    - Spark: Pyspark e Scala\n",
    "* Exploração dos dados\n",
    "    - **Entender de fato os insights que impactam no resultado do negócio**\n",
    "    - Python: (Pandas, Seaborn, Matplotlib e Plotly)\n",
    "    - Visualização de dados: Power BI, Tableau e Plotly\n",
    "    - Spark: Pyspark e ScalaSpark\n",
    "    - Estatística: Estatística descritiva, Distribuição de probabilidade, Análise bivariada (Correlações: numérica x numérica, numérica x categórica, categórica x categórica, correlação entre time series)\n",
    "    - Histogramas\n",
    "    - Hipóteses: Criação e validação de hipóteses\n",
    "* Modelagem de dados\n",
    "    - Rescaling: Standard Scaler, MinMax Scaler, MaxAbs Scaler e Robust Scaler.\n",
    "    - Encoding: Numérica (Discretização e binarização) e Categórica ( One Hot Enconder, Label encoder, Binary encoder, Hashing encoder, Target encoder, Backward Encoder e polynomial encoder)\n",
    "    - Seleção de features: Boruta Algorithm, Pearson correlation, Chi-Squared, Lasso Regression Model, Random Forest, Spearman Correlation, ANOVA, Kendall correlation e Mutual Information.\n",
    "    - Tokenização (NLP)\n",
    "* Algoritmos de Machine Learning\n",
    "* Avaliação do algoritmo\n",
    "    - Avaliação de métricas e erros.\n",
    "* Modelo em produção\n"
   ]
  },
  {
   "cell_type": "code",
   "execution_count": null,
   "metadata": {},
   "outputs": [],
   "source": []
  }
 ],
 "metadata": {
  "language_info": {
   "name": "python"
  },
  "orig_nbformat": 4
 },
 "nbformat": 4,
 "nbformat_minor": 2
}
