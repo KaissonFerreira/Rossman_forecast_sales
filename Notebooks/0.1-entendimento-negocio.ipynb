{
 "cells": [
  {
   "cell_type": "markdown",
   "metadata": {},
   "source": [
    "# Ciclo CRISP-DM para o Desafio da Rossman\n",
    "\n",
    "---"
   ]
  },
  {
   "cell_type": "markdown",
   "metadata": {},
   "source": [
    "**Contexto:** A Rossmann opera mais de 3.000 drogarias em 7 países europeus. Atualmente, os gerentes de loja da Rossmann têm a tarefa de prever suas vendas diárias com até seis semanas de antecedência. As vendas da loja são influenciadas por muitos fatores, incluindo promoções, competição, feriados escolares e estaduais, sazonalidade e localidade. Com milhares de gerentes individuais prevendo vendas com base em suas circunstâncias únicas, a precisão dos resultados pode ser bastante variada."
   ]
  },
  {
   "cell_type": "markdown",
   "metadata": {},
   "source": [
    "# 0.0 Questão de negócio"
   ]
  },
  {
   "cell_type": "markdown",
   "metadata": {},
   "source": [
    "* Qual é o valor das vendas de cada loja nas próximas 6 semanas?"
   ]
  },
  {
   "cell_type": "markdown",
   "metadata": {},
   "source": [
    "# 1.0 Entendimento do negócio"
   ]
  },
  {
   "cell_type": "markdown",
   "metadata": {},
   "source": [
    "## 1.1 Qual a motivação?"
   ]
  },
  {
   "cell_type": "markdown",
   "metadata": {},
   "source": [
    "- A previsão de vendas foi requisitada pelo CFO em uma reunião mensal sobre os resultados das lojas."
   ]
  },
  {
   "cell_type": "markdown",
   "metadata": {},
   "source": [
    "## 1.2 Qual a causa raíz do problema?"
   ]
  },
  {
   "cell_type": "markdown",
   "metadata": {},
   "source": [
    "- Dificuldade em determinar o valor do investimento para as reformas de cada loja."
   ]
  },
  {
   "cell_type": "markdown",
   "metadata": {},
   "source": [
    "## 1.3 Quem é o dono do problema?"
   ]
  },
  {
   "cell_type": "markdown",
   "metadata": {},
   "source": [
    "- Diretor financeiro (CFO) da Rossman."
   ]
  },
  {
   "cell_type": "markdown",
   "metadata": {},
   "source": [
    "## 1.4 Qual é o formato da solução?"
   ]
  },
  {
   "cell_type": "markdown",
   "metadata": {},
   "source": [
    "* **Granularidade:** Previsão de vendas por dias e por loja os próximos 42 dias (6 Semanas)\n",
    "* **Tipo do problema:** Previsão de vendas (Regressão)\n",
    "* **Potenciais métodos:** Séries temporais e regressão com algumas modificações.\n",
    "* **Formato de entrega:**\n",
    "    - O valor total das vendas no final das 6 semanas (Uma coluna com o código ID da loja e outra coluna com o valor de vendas)\n",
    "    - A entrega será pelo celular (app)\n",
    "    - Checagem diária."
   ]
  }
 ],
 "metadata": {
  "language_info": {
   "name": "python"
  },
  "orig_nbformat": 4
 },
 "nbformat": 4,
 "nbformat_minor": 2
}
