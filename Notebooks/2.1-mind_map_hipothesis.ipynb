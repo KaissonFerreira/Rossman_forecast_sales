{
 "cells": [
  {
   "cell_type": "markdown",
   "metadata": {},
   "source": [
    "# Mapa mental de hipóteses"
   ]
  },
  {
   "cell_type": "markdown",
   "metadata": {},
   "source": [
    "* Fênomeno:\n",
    "    - Qual fenômeno estou modelando?\n",
    "    Ex: \n",
    "        - **Venda**\n",
    "\n",
    "* Agentes:\n",
    "    - Quem são os agentes que atuam sobre o fenômeno de interesse?\n",
    "    Ex:\n",
    "        - Clientes\n",
    "        - Lojas\n",
    "        - Produtos\n",
    "\n",
    "* Atributos dos agentes:\n",
    "    - Descrição dos agentes\n",
    "\n",
    "* Lista de Hipóteses:\n",
    "    - Hipóteses para validar com os dados.\n",
    "\n",
    "* Duas formas de gerar insights:\n",
    "    - Surpresa\n",
    "    - Contraposição de crença"
   ]
  },
  {
   "cell_type": "markdown",
   "metadata": {},
   "source": [
    "## Perguntas interessantes para se fazer ao time:"
   ]
  },
  {
   "cell_type": "markdown",
   "metadata": {},
   "source": [
    "**As hipóteses e construção do mapa mental se dá pelo Brainstorming com o time de cada área que afeta o projeto**\n",
    "\n",
    "Ex:\n",
    "* No seu ponto de vista ou no ponto do seu time, quais alavancas impactam o aumento ou redução das vendas? \n",
    "(Mapear os agentes na visão do time de negócios)"
   ]
  }
 ],
 "metadata": {
  "language_info": {
   "name": "python"
  },
  "orig_nbformat": 4
 },
 "nbformat": 4,
 "nbformat_minor": 2
}
