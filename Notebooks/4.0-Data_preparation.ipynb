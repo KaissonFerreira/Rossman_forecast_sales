{
 "cells": [
  {
   "cell_type": "markdown",
   "metadata": {},
   "source": [
    "# Notebook 04\n",
    "- Preparação dos dados\n"
   ]
  },
  {
   "cell_type": "markdown",
   "metadata": {},
   "source": [
    "# 0.0 Imports"
   ]
  },
  {
   "cell_type": "code",
   "execution_count": 2,
   "metadata": {},
   "outputs": [],
   "source": [
    "import os\n",
    "import pathlib\n",
    "import pandas            as pd\n",
    "import matplotlib.pyplot as plt\n",
    "import seaborn           as sns\n",
    "import numpy             as np\n",
    "\n",
    "from scipy                import stats as ss\n",
    "from IPython.core.display import HTML\n",
    "\n",
    "import warnings\n",
    "warnings.filterwarnings(\"ignore\")"
   ]
  },
  {
   "cell_type": "markdown",
   "metadata": {},
   "source": [
    "## 0.1 Helper Functions"
   ]
  },
  {
   "cell_type": "code",
   "execution_count": 3,
   "metadata": {},
   "outputs": [
    {
     "name": "stdout",
     "output_type": "stream",
     "text": [
      "%pylab is deprecated, use %matplotlib inline and import the required libraries.\n",
      "Populating the interactive namespace from numpy and matplotlib\n"
     ]
    },
    {
     "data": {
      "text/html": [
       "<style>.container { width:100% !important; }</style>"
      ],
      "text/plain": [
       "<IPython.core.display.HTML object>"
      ]
     },
     "metadata": {},
     "output_type": "display_data"
    }
   ],
   "source": [
    "def jupyter_settings():\n",
    "    %matplotlib inline\n",
    "    %pylab inline\n",
    "    plt.style.use( 'bmh' )\n",
    "    plt.rcParams['figure.figsize'] = [25, 12]\n",
    "    plt.rcParams['font.size'] = 24\n",
    "    display( HTML( '<style>.container { width:100% !important; }</style>') )\n",
    "    pd.options.display.max_columns = None\n",
    "    pd.options.display.max_rows = None\n",
    "    pd.set_option( 'display.expand_frame_repr', False )\n",
    "    sns.set()\n",
    "jupyter_settings()"
   ]
  },
  {
   "cell_type": "markdown",
   "metadata": {},
   "source": [
    "## 0.2 File and directory paths"
   ]
  },
  {
   "cell_type": "code",
   "execution_count": 4,
   "metadata": {},
   "outputs": [],
   "source": [
    "# Diretório raíz\n",
    "PACKAGE_ROOT = pathlib.Path('.').resolve().parent\n",
    "\n",
    "# Caminhos para os diretórios dos dados\n",
    "DATADIR = os.path.join(PACKAGE_ROOT, 'data')\n",
    "DATADIR_PREPROCESSED = os.path.join(DATADIR, 'preprocessed')\n",
    "\n",
    "# Caminhos para os diretórios de documentos\n",
    "DOCDIR = os.path.join(PACKAGE_ROOT, 'docs')\n",
    "IMAGEDIR = os.path.join(DOCDIR, 'Image')\n",
    "\n",
    "# Files Preprocessed Data\n",
    "FILE_PREPROCESSED_V1 = os.path.join(DATADIR_PREPROCESSED,'data_preprocessed_v1.csv')"
   ]
  },
  {
   "cell_type": "markdown",
   "metadata": {},
   "source": [
    "## 0.3 Data loading\n",
    "**Carregando os dados em que as lojas estavam abertas**"
   ]
  },
  {
   "cell_type": "code",
   "execution_count": 5,
   "metadata": {},
   "outputs": [
    {
     "name": "stdout",
     "output_type": "stream",
     "text": [
      "<class 'pandas.core.frame.DataFrame'>\n",
      "RangeIndex: 844392 entries, 0 to 844391\n",
      "Data columns (total 26 columns):\n",
      " #   Column                        Non-Null Count   Dtype         \n",
      "---  ------                        --------------   -----         \n",
      " 0   store                         844392 non-null  int64         \n",
      " 1   day_of_week                   844392 non-null  int64         \n",
      " 2   date                          844392 non-null  datetime64[ns]\n",
      " 3   sales                         844392 non-null  int64         \n",
      " 4   open                          844392 non-null  int64         \n",
      " 5   promo                         844392 non-null  int64         \n",
      " 6   state_holiday                 844392 non-null  object        \n",
      " 7   school_holiday                844392 non-null  int64         \n",
      " 8   store_type                    844392 non-null  object        \n",
      " 9   assortment                    844392 non-null  object        \n",
      " 10  competition_distance          844392 non-null  float64       \n",
      " 11  competition_open_since_month  844392 non-null  int64         \n",
      " 12  competition_open_since_year   844392 non-null  int64         \n",
      " 13  promo2                        844392 non-null  int64         \n",
      " 14  promo2_since_week             844392 non-null  int64         \n",
      " 15  promo2_since_year             844392 non-null  int64         \n",
      " 16  is_promo                      844392 non-null  int64         \n",
      " 17  year                          844392 non-null  int64         \n",
      " 18  month                         844392 non-null  int64         \n",
      " 19  day                           844392 non-null  int64         \n",
      " 20  weekofyear                    844392 non-null  int64         \n",
      " 21  year_week                     844392 non-null  object        \n",
      " 22  competition_since             844392 non-null  datetime64[ns]\n",
      " 23  competition_time_month        844392 non-null  int64         \n",
      " 24  promo_since                   844392 non-null  datetime64[ns]\n",
      " 25  promo_time_week               844392 non-null  int64         \n",
      "dtypes: datetime64[ns](3), float64(1), int64(18), object(4)\n",
      "memory usage: 167.5+ MB\n"
     ]
    }
   ],
   "source": [
    "df = pd.read_csv(FILE_PREPROCESSED_V1)\n",
    "df = df.drop(columns='Unnamed: 0')\n",
    "df['date']=pd.to_datetime(df['date'])\n",
    "df['promo_since']=pd.to_datetime(df['promo_since'])\n",
    "df['competition_since']=pd.to_datetime(df['competition_since'])\n",
    "#df['year_week']=pd.to_datetime(df['year_week'])\n",
    "### 0.3.1 Data info\n",
    "df.info()"
   ]
  },
  {
   "cell_type": "markdown",
   "metadata": {},
   "source": [
    "# 1.0 Data preparation"
   ]
  },
  {
   "cell_type": "code",
   "execution_count": 6,
   "metadata": {},
   "outputs": [],
   "source": [
    "df1 = df.copy()"
   ]
  },
  {
   "cell_type": "markdown",
   "metadata": {},
   "source": [
    "## 1.1 Normalização"
   ]
  },
  {
   "cell_type": "markdown",
   "metadata": {},
   "source": [
    "Como não há variáveis numéricas com distribuição normal, então não precisa utilizar esse tipo de transformação de escala."
   ]
  },
  {
   "cell_type": "markdown",
   "metadata": {},
   "source": [
    "## 1.2 Rescaling"
   ]
  },
  {
   "cell_type": "code",
   "execution_count": null,
   "metadata": {},
   "outputs": [],
   "source": []
  }
 ],
 "metadata": {
  "kernelspec": {
   "display_name": "Python 3.9.8 ('sales-rossman-wZyGz0MP-py3.9')",
   "language": "python",
   "name": "python3"
  },
  "language_info": {
   "codemirror_mode": {
    "name": "ipython",
    "version": 3
   },
   "file_extension": ".py",
   "mimetype": "text/x-python",
   "name": "python",
   "nbconvert_exporter": "python",
   "pygments_lexer": "ipython3",
   "version": "3.9.8"
  },
  "orig_nbformat": 4,
  "vscode": {
   "interpreter": {
    "hash": "e87dc9a862af6d91199daa71a241f176beb86692a7aa5324e39dd008bfbbf427"
   }
  }
 },
 "nbformat": 4,
 "nbformat_minor": 2
}
