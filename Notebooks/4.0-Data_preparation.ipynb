{
 "cells": [
  {
   "cell_type": "markdown",
   "metadata": {},
   "source": [
    "# Notebook 04\n",
    "- Preparação dos dados\n"
   ]
  },
  {
   "cell_type": "markdown",
   "metadata": {},
   "source": [
    "# 0.0 Imports"
   ]
  },
  {
   "cell_type": "code",
   "execution_count": 10,
   "metadata": {},
   "outputs": [],
   "source": [
    "import os\n",
    "import pathlib\n",
    "import pandas            as pd\n",
    "import matplotlib.pyplot as plt\n",
    "import seaborn           as sns\n",
    "import numpy             as np\n",
    "\n",
    "from sklearn.preprocessing import RobustScaler , MinMaxScaler, LabelEncoder\n",
    "from scipy                 import stats as ss\n",
    "from IPython.core.display  import HTML\n",
    "\n",
    "import warnings\n",
    "warnings.filterwarnings(\"ignore\")"
   ]
  },
  {
   "cell_type": "markdown",
   "metadata": {},
   "source": [
    "## 0.1 Helper Functions"
   ]
  },
  {
   "cell_type": "code",
   "execution_count": 2,
   "metadata": {},
   "outputs": [
    {
     "name": "stdout",
     "output_type": "stream",
     "text": [
      "%pylab is deprecated, use %matplotlib inline and import the required libraries.\n",
      "Populating the interactive namespace from numpy and matplotlib\n"
     ]
    },
    {
     "data": {
      "text/html": [
       "<style>.container { width:100% !important; }</style>"
      ],
      "text/plain": [
       "<IPython.core.display.HTML object>"
      ]
     },
     "metadata": {},
     "output_type": "display_data"
    }
   ],
   "source": [
    "def jupyter_settings():\n",
    "    %matplotlib inline\n",
    "    %pylab inline\n",
    "    plt.style.use( 'bmh' )\n",
    "    plt.rcParams['figure.figsize'] = [25, 12]\n",
    "    plt.rcParams['font.size'] = 24\n",
    "    display( HTML( '<style>.container { width:100% !important; }</style>') )\n",
    "    pd.options.display.max_columns = None\n",
    "    pd.options.display.max_rows = None\n",
    "    pd.set_option( 'display.expand_frame_repr', False )\n",
    "    sns.set()\n",
    "jupyter_settings()"
   ]
  },
  {
   "cell_type": "markdown",
   "metadata": {},
   "source": [
    "## 0.2 File and directory paths"
   ]
  },
  {
   "cell_type": "code",
   "execution_count": 34,
   "metadata": {},
   "outputs": [],
   "source": [
    "# Diretório raíz\n",
    "PACKAGE_ROOT = pathlib.Path('.').resolve().parent\n",
    "\n",
    "# Caminhos para os diretórios dos dados\n",
    "DATADIR = os.path.join(PACKAGE_ROOT, 'data')\n",
    "DATADIR_PREPROCESSED = os.path.join(DATADIR, 'preprocessed')\n",
    "DATADIR_INTERIM = os.path.join(DATADIR, 'interim')\n",
    "\n",
    "# Caminhos para os diretórios de documentos\n",
    "DOCDIR = os.path.join(PACKAGE_ROOT, 'docs')\n",
    "IMAGEDIR = os.path.join(DOCDIR, 'Image')\n",
    "\n",
    "# Files Preprocessed Data\n",
    "FILE_PREPROCESSED_V1 = os.path.join(DATADIR_PREPROCESSED,'data_preprocessed_v1.csv')"
   ]
  },
  {
   "cell_type": "markdown",
   "metadata": {},
   "source": [
    "## 0.3 Data loading\n",
    "**Carregando os dados em que as lojas estavam abertas**"
   ]
  },
  {
   "cell_type": "code",
   "execution_count": 4,
   "metadata": {},
   "outputs": [
    {
     "name": "stdout",
     "output_type": "stream",
     "text": [
      "<class 'pandas.core.frame.DataFrame'>\n",
      "RangeIndex: 844392 entries, 0 to 844391\n",
      "Data columns (total 26 columns):\n",
      " #   Column                        Non-Null Count   Dtype         \n",
      "---  ------                        --------------   -----         \n",
      " 0   store                         844392 non-null  int64         \n",
      " 1   day_of_week                   844392 non-null  int64         \n",
      " 2   date                          844392 non-null  datetime64[ns]\n",
      " 3   sales                         844392 non-null  int64         \n",
      " 4   open                          844392 non-null  int64         \n",
      " 5   promo                         844392 non-null  int64         \n",
      " 6   state_holiday                 844392 non-null  object        \n",
      " 7   school_holiday                844392 non-null  int64         \n",
      " 8   store_type                    844392 non-null  object        \n",
      " 9   assortment                    844392 non-null  object        \n",
      " 10  competition_distance          844392 non-null  float64       \n",
      " 11  competition_open_since_month  844392 non-null  int64         \n",
      " 12  competition_open_since_year   844392 non-null  int64         \n",
      " 13  promo2                        844392 non-null  int64         \n",
      " 14  promo2_since_week             844392 non-null  int64         \n",
      " 15  promo2_since_year             844392 non-null  int64         \n",
      " 16  is_promo                      844392 non-null  int64         \n",
      " 17  year                          844392 non-null  int64         \n",
      " 18  month                         844392 non-null  int64         \n",
      " 19  day                           844392 non-null  int64         \n",
      " 20  weekofyear                    844392 non-null  int64         \n",
      " 21  year_week                     844392 non-null  object        \n",
      " 22  competition_since             844392 non-null  datetime64[ns]\n",
      " 23  competition_time_month        844392 non-null  int64         \n",
      " 24  promo_since                   844392 non-null  datetime64[ns]\n",
      " 25  promo_time_week               844392 non-null  int64         \n",
      "dtypes: datetime64[ns](3), float64(1), int64(18), object(4)\n",
      "memory usage: 167.5+ MB\n"
     ]
    }
   ],
   "source": [
    "df = pd.read_csv(FILE_PREPROCESSED_V1)\n",
    "df = df.drop(columns='Unnamed: 0')\n",
    "df['date']=pd.to_datetime(df['date'])\n",
    "df['promo_since']=pd.to_datetime(df['promo_since'])\n",
    "df['competition_since']=pd.to_datetime(df['competition_since'])\n",
    "#df['year_week']=pd.to_datetime(df['year_week'])\n"
   ]
  },
  {
   "cell_type": "markdown",
   "metadata": {},
   "source": [
    "# 1.0 Data preparation"
   ]
  },
  {
   "cell_type": "code",
   "execution_count": 28,
   "metadata": {},
   "outputs": [],
   "source": [
    "df1 = df.copy()"
   ]
  },
  {
   "cell_type": "markdown",
   "metadata": {},
   "source": [
    "## 1.1 Normalização"
   ]
  },
  {
   "cell_type": "markdown",
   "metadata": {},
   "source": [
    "Como não há variáveis numéricas com distribuição normal, então não precisa utilizar esse tipo de transformação de escala."
   ]
  },
  {
   "cell_type": "markdown",
   "metadata": {},
   "source": [
    "## 1.2 Rescaling"
   ]
  },
  {
   "cell_type": "markdown",
   "metadata": {},
   "source": [
    "**Na presença de outliers podemos utilizar o RobustScaler para a transformação dos dados em uma nova escala, e caso não tenha outliers, poderá ser utilizado o método MinMaxScaler**"
   ]
  },
  {
   "cell_type": "code",
   "execution_count": 29,
   "metadata": {},
   "outputs": [],
   "source": [
    "rs = RobustScaler()\n",
    "mms = MinMaxScaler()\n",
    "\n",
    "\n",
    "# competition_distance\n",
    "df1['competition_distance'] = rs.fit_transform(df1[['competition_distance']].values) # Coloca-se dois colchetes para pegar o valor da coluna.\n",
    "\n",
    "# year - sem outlier\n",
    "df1['year'] = mms.fit_transform(df1[['year']].values)\n",
    "\n",
    "# competition time month\n",
    "df1['competition_time_month'] = rs.fit_transform(df1[['competition_time_month']].values)\n",
    "\n",
    "# promo time week - sem outlier\n",
    "df1['promo_time_week'] = mms.fit_transform(df1[['promo_time_week']].values)"
   ]
  },
  {
   "cell_type": "markdown",
   "metadata": {},
   "source": [
    "## 1.3 Encoding"
   ]
  },
  {
   "cell_type": "code",
   "execution_count": 30,
   "metadata": {},
   "outputs": [],
   "source": [
    "# state_holiday - Método OHE (Get_dummies)\n",
    "df1 = pd.get_dummies(df1,prefix=['state_holiday'], columns=['state_holiday'])\n",
    "\n",
    "# store_type - Label Encoder (Aleatoriamente trocando as letras por números)\n",
    "le = LabelEncoder()\n",
    "df1['store_type'] = le.fit_transform(df1['store_type'])\n",
    "\n",
    "# assortment - Ordinal (Esse método deve ser utilizado uma vez que temos uma ordem de grandeza em relação as categorias)\n",
    "dict_assortment = {'basic':0,\n",
    "                    'extra': 2,\n",
    "                    'extended':3}\n",
    "df1['assortment'] = df1['assortment'].map(dict_assortment)\n"
   ]
  },
  {
   "cell_type": "markdown",
   "metadata": {},
   "source": [
    "## 1.4 Transformation"
   ]
  },
  {
   "cell_type": "markdown",
   "metadata": {},
   "source": [
    "### 1.4.1 Responsible Variable transformation"
   ]
  },
  {
   "cell_type": "markdown",
   "metadata": {},
   "source": [
    "Fazendo com o que a Variável resposta tenha uma distribuição mais próxima da normal. Nesse ciclo, iremos utilizar o método de transformação logarítimica."
   ]
  },
  {
   "cell_type": "code",
   "execution_count": 31,
   "metadata": {},
   "outputs": [
    {
     "data": {
      "text/plain": [
       "<seaborn.axisgrid.FacetGrid at 0x1888f77e940>"
      ]
     },
     "execution_count": 31,
     "metadata": {},
     "output_type": "execute_result"
    },
    {
     "data": {
      "image/png": "[encoded data removed]",
      "text/plain": [
       "<Figure size 360x360 with 1 Axes>"
      ]
     },
     "metadata": {},
     "output_type": "display_data"
    }
   ],
   "source": [
    "df1['sales'] = np.log1p(df1['sales'])\n",
    "sns.displot(df1['sales'])"
   ]
  },
  {
   "cell_type": "markdown",
   "metadata": {},
   "source": [
    "### 1.4.2 Transformação cíclica"
   ]
  },
  {
   "cell_type": "code",
   "execution_count": 33,
   "metadata": {},
   "outputs": [],
   "source": [
    "# day_of_week\n",
    "df1['day_of_week_sin']= df1['day_of_week'].apply(lambda x: np.sin(x * (2. * np.pi/7)))\n",
    "df1['day_of_week_cos']= df1['day_of_week'].apply(lambda x: np.cos(x * (2. * np.pi/7)))\n",
    "\n",
    "# month\n",
    "df1['month_sin']= df1['month'].apply(lambda x: np.sin(x * (2. * np.pi/12)))\n",
    "df1['month_cos']= df1['month'].apply(lambda x: np.cos(x * (2. * np.pi/12)))\n",
    "\n",
    "# day\n",
    "df1['day_sin']= df1['day'].apply(lambda x: np.sin(x * (2. * np.pi/30)))\n",
    "df1['day_cos']= df1['day'].apply(lambda x: np.cos(x * (2. * np.pi/30)))\n",
    "\n",
    "# week of year\n",
    "df1['weekofyear_sin']= df1['weekofyear'].apply(lambda x: np.sin(x * (2. * np.pi/52)))\n",
    "df1['weekofyear_cos']= df1['weekofyear'].apply(lambda x: np.cos(x * (2. * np.pi/52)))\n"
   ]
  },
  {
   "cell_type": "markdown",
   "metadata": {},
   "source": [
    "## 1.5 Save Data"
   ]
  },
  {
   "cell_type": "code",
   "execution_count": 36,
   "metadata": {},
   "outputs": [],
   "source": [
    "name_new_file = 'data_interim_ciclo01.csv'\n",
    "name_new_file = os.path.join(DATADIR_INTERIM,name_new_file)\n",
    "df1.to_csv(name_new_file)"
   ]
  }
 ],
 "metadata": {
  "kernelspec": {
   "display_name": "Python 3.9.8 ('sales-rossman-wZyGz0MP-py3.9')",
   "language": "python",
   "name": "python3"
  },
  "language_info": {
   "codemirror_mode": {
    "name": "ipython",
    "version": 3
   },
   "file_extension": ".py",
   "mimetype": "text/x-python",
   "name": "python",
   "nbconvert_exporter": "python",
   "pygments_lexer": "ipython3",
   "version": "3.9.8"
  },
  "orig_nbformat": 4,
  "vscode": {
   "interpreter": {
    "hash": "e87dc9a862af6d91199daa71a241f176beb86692a7aa5324e39dd008bfbbf427"
   }
  }
 },
 "nbformat": 4,
 "nbformat_minor": 2
}
